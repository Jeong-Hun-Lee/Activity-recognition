{
 "cells": [
  {
   "cell_type": "code",
   "execution_count": 1,
   "metadata": {},
   "outputs": [],
   "source": [
    "import numpy as np\n",
    "import pandas as pd\n",
    "import geopandas as gpd\n",
    "from shapely.geometry import Point, Polygon\n",
    "import geopy\n",
    "from geopy.distance import geodesic\n",
    "from geovoronoi import voronoi_regions_from_coords\n",
    "from sklearn.cluster import KMeans, DBSCAN, OPTICS, MeanShift\n",
    "import datetime\n",
    "import folium\n",
    "from tqdm import tqdm"
   ]
  },
  {
   "cell_type": "markdown",
   "metadata": {},
   "source": [
    "### Data representation\n",
    "$\\begin{align}\\{p^u_{i}|i=1,2,3,...,n ,\\end{align}$\n",
    "and\n",
    "$\\begin{align}u=1,2,3,...,U\\}\\end{align}$\n",
    "\n",
    "* $\\begin{align}p^u_{i}=(x_{i},y_{i},t_{i1},t_{i2})\\end{align}$\n",
    "* $\\begin{align}x_{i},y_{i}:\\end{align}$geographical coordinates\n",
    "* $\\begin{align}t_{i1},t_{i2}:\\end{align}$start and end time"
   ]
  },
  {
   "cell_type": "code",
   "execution_count": 2,
   "metadata": {},
   "outputs": [
    {
     "data": {
      "text/html": [
       "<div>\n",
       "<style scoped>\n",
       "    .dataframe tbody tr th:only-of-type {\n",
       "        vertical-align: middle;\n",
       "    }\n",
       "\n",
       "    .dataframe tbody tr th {\n",
       "        vertical-align: top;\n",
       "    }\n",
       "\n",
       "    .dataframe thead th {\n",
       "        text-align: right;\n",
       "    }\n",
       "</style>\n",
       "<table border=\"1\" class=\"dataframe\">\n",
       "  <thead>\n",
       "    <tr style=\"text-align: right;\">\n",
       "      <th></th>\n",
       "      <th>uid</th>\n",
       "      <th>id</th>\n",
       "      <th>lat</th>\n",
       "      <th>lng</th>\n",
       "      <th>start_time</th>\n",
       "      <th>end_time</th>\n",
       "      <th>activity</th>\n",
       "    </tr>\n",
       "  </thead>\n",
       "  <tbody>\n",
       "    <tr>\n",
       "      <th>0</th>\n",
       "      <td>9497</td>\n",
       "      <td>250460</td>\n",
       "      <td>37.554742</td>\n",
       "      <td>127.026641</td>\n",
       "      <td>2019-11-07 10:45:58</td>\n",
       "      <td>2019-11-07 16:00:49</td>\n",
       "      <td>0.0</td>\n",
       "    </tr>\n",
       "    <tr>\n",
       "      <th>1</th>\n",
       "      <td>9497</td>\n",
       "      <td>240029</td>\n",
       "      <td>37.564022</td>\n",
       "      <td>127.035580</td>\n",
       "      <td>2019-11-06 23:27:51</td>\n",
       "      <td>2019-11-07 10:45:58</td>\n",
       "      <td>3.0</td>\n",
       "    </tr>\n",
       "    <tr>\n",
       "      <th>2</th>\n",
       "      <td>9497</td>\n",
       "      <td>238990</td>\n",
       "      <td>37.560267</td>\n",
       "      <td>127.033065</td>\n",
       "      <td>2019-11-06 20:22:16</td>\n",
       "      <td>2019-11-06 23:25:41</td>\n",
       "      <td>3.0</td>\n",
       "    </tr>\n",
       "    <tr>\n",
       "      <th>3</th>\n",
       "      <td>9497</td>\n",
       "      <td>234786</td>\n",
       "      <td>37.561929</td>\n",
       "      <td>127.038133</td>\n",
       "      <td>2019-11-06 17:15:56</td>\n",
       "      <td>2019-11-06 18:13:46</td>\n",
       "      <td>3.0</td>\n",
       "    </tr>\n",
       "    <tr>\n",
       "      <th>4</th>\n",
       "      <td>9497</td>\n",
       "      <td>226233</td>\n",
       "      <td>37.561171</td>\n",
       "      <td>127.037129</td>\n",
       "      <td>2019-11-06 07:49:15</td>\n",
       "      <td>2019-11-06 08:29:32</td>\n",
       "      <td>3.0</td>\n",
       "    </tr>\n",
       "  </tbody>\n",
       "</table>\n",
       "</div>"
      ],
      "text/plain": [
       "    uid      id        lat         lng           start_time  \\\n",
       "0  9497  250460  37.554742  127.026641  2019-11-07 10:45:58   \n",
       "1  9497  240029  37.564022  127.035580  2019-11-06 23:27:51   \n",
       "2  9497  238990  37.560267  127.033065  2019-11-06 20:22:16   \n",
       "3  9497  234786  37.561929  127.038133  2019-11-06 17:15:56   \n",
       "4  9497  226233  37.561171  127.037129  2019-11-06 07:49:15   \n",
       "\n",
       "              end_time  activity  \n",
       "0  2019-11-07 16:00:49       0.0  \n",
       "1  2019-11-07 10:45:58       3.0  \n",
       "2  2019-11-06 23:25:41       3.0  \n",
       "3  2019-11-06 18:13:46       3.0  \n",
       "4  2019-11-06 08:29:32       3.0  "
      ]
     },
     "execution_count": 2,
     "metadata": {},
     "output_type": "execute_result"
    }
   ],
   "source": [
    "DATA_DIR = './data'\n",
    "\n",
    "stop_df = pd.read_csv(DATA_DIR + '/pre_stop_points.csv')\n",
    "stop_df.activity = stop_df.pop('activity_class')\n",
    "stop_df.head()"
   ]
  },
  {
   "cell_type": "markdown",
   "metadata": {},
   "source": [
    "### Data quantization\n",
    "$\\begin{align}q_{i}(\\end{align}$quantized version of$\\begin{align}p_{i})=\n",
    "\\{c_{i},\\mathcal{S}_{i},a_{i}\\}\\end{align}$\n",
    "\n",
    "* $\\begin{align}(x_{i},y_{i})\\mapsto c_{i}\\end{align}$\n",
    "* $\\begin{align}(t_{i1},t_{i2})\\mapsto \\mathcal{S}_{i}\\end{align}$\n",
    "* $\\begin{align}a_{i}:\\end{align}$activity classes"
   ]
  },
  {
   "cell_type": "markdown",
   "metadata": {},
   "source": [
    "#### Spatial cell\n",
    "\n",
    "* The location $\\begin{align}(x_{i},y_{i})\\mapsto\\end{align}$a cell $\\begin{align}c_{i}\\end{align}$"
   ]
  },
  {
   "cell_type": "code",
   "execution_count": 3,
   "metadata": {},
   "outputs": [],
   "source": [
    "def df_to_gdf(df, x, y):\n",
    "    geometry = [Point(xy) for xy in zip(df[x], df[y])] # create Geometry series with lat / longitude\n",
    "    df = df.drop([x, y], axis=1)\n",
    "    gdf = gpd.GeoDataFrame(df, crs=None, geometry=geometry)\n",
    "    return gdf"
   ]
  },
  {
   "cell_type": "code",
   "execution_count": 4,
   "metadata": {},
   "outputs": [
    {
     "data": {
      "text/html": [
       "<div>\n",
       "<style scoped>\n",
       "    .dataframe tbody tr th:only-of-type {\n",
       "        vertical-align: middle;\n",
       "    }\n",
       "\n",
       "    .dataframe tbody tr th {\n",
       "        vertical-align: top;\n",
       "    }\n",
       "\n",
       "    .dataframe thead th {\n",
       "        text-align: right;\n",
       "    }\n",
       "</style>\n",
       "<table border=\"1\" class=\"dataframe\">\n",
       "  <thead>\n",
       "    <tr style=\"text-align: right;\">\n",
       "      <th></th>\n",
       "      <th>uid</th>\n",
       "      <th>id</th>\n",
       "      <th>start_time</th>\n",
       "      <th>end_time</th>\n",
       "      <th>activity</th>\n",
       "      <th>geometry</th>\n",
       "    </tr>\n",
       "  </thead>\n",
       "  <tbody>\n",
       "    <tr>\n",
       "      <th>0</th>\n",
       "      <td>9497</td>\n",
       "      <td>250460</td>\n",
       "      <td>2019-11-07 10:45:58</td>\n",
       "      <td>2019-11-07 16:00:49</td>\n",
       "      <td>0.0</td>\n",
       "      <td>POINT (127.026641 37.55474155)</td>\n",
       "    </tr>\n",
       "    <tr>\n",
       "      <th>1</th>\n",
       "      <td>9497</td>\n",
       "      <td>240029</td>\n",
       "      <td>2019-11-06 23:27:51</td>\n",
       "      <td>2019-11-07 10:45:58</td>\n",
       "      <td>3.0</td>\n",
       "      <td>POINT (127.0355804 37.56402230000001)</td>\n",
       "    </tr>\n",
       "    <tr>\n",
       "      <th>2</th>\n",
       "      <td>9497</td>\n",
       "      <td>238990</td>\n",
       "      <td>2019-11-06 20:22:16</td>\n",
       "      <td>2019-11-06 23:25:41</td>\n",
       "      <td>3.0</td>\n",
       "      <td>POINT (127.0330645 37.5602669)</td>\n",
       "    </tr>\n",
       "    <tr>\n",
       "      <th>3</th>\n",
       "      <td>9497</td>\n",
       "      <td>234786</td>\n",
       "      <td>2019-11-06 17:15:56</td>\n",
       "      <td>2019-11-06 18:13:46</td>\n",
       "      <td>3.0</td>\n",
       "      <td>POINT (127.0381327 37.5619293)</td>\n",
       "    </tr>\n",
       "    <tr>\n",
       "      <th>4</th>\n",
       "      <td>9497</td>\n",
       "      <td>226233</td>\n",
       "      <td>2019-11-06 07:49:15</td>\n",
       "      <td>2019-11-06 08:29:32</td>\n",
       "      <td>3.0</td>\n",
       "      <td>POINT (127.03712865 37.56117105)</td>\n",
       "    </tr>\n",
       "  </tbody>\n",
       "</table>\n",
       "</div>"
      ],
      "text/plain": [
       "    uid      id           start_time             end_time  activity  \\\n",
       "0  9497  250460  2019-11-07 10:45:58  2019-11-07 16:00:49       0.0   \n",
       "1  9497  240029  2019-11-06 23:27:51  2019-11-07 10:45:58       3.0   \n",
       "2  9497  238990  2019-11-06 20:22:16  2019-11-06 23:25:41       3.0   \n",
       "3  9497  234786  2019-11-06 17:15:56  2019-11-06 18:13:46       3.0   \n",
       "4  9497  226233  2019-11-06 07:49:15  2019-11-06 08:29:32       3.0   \n",
       "\n",
       "                                geometry  \n",
       "0         POINT (127.026641 37.55474155)  \n",
       "1  POINT (127.0355804 37.56402230000001)  \n",
       "2         POINT (127.0330645 37.5602669)  \n",
       "3         POINT (127.0381327 37.5619293)  \n",
       "4       POINT (127.03712865 37.56117105)  "
      ]
     },
     "execution_count": 4,
     "metadata": {},
     "output_type": "execute_result"
    }
   ],
   "source": [
    "stop_gdf = df_to_gdf(stop_df, x='lng', y='lat')\n",
    "stop_gdf.head()"
   ]
  },
  {
   "cell_type": "markdown",
   "metadata": {},
   "source": [
    "* clustering (e.g., k-means, DBSCAN, OPTICS, Mean shift)"
   ]
  },
  {
   "cell_type": "code",
   "execution_count": 5,
   "metadata": {},
   "outputs": [],
   "source": [
    "def get_KMeans_cluster_centers(x, k):\n",
    "    X = x.to_numpy()\n",
    "    kmeans = KMeans(n_clusters=K, random_state=0).fit(X)\n",
    "    coords = kmeans.cluster_centers_\n",
    "    return coords"
   ]
  },
  {
   "cell_type": "code",
   "execution_count": 6,
   "metadata": {},
   "outputs": [],
   "source": [
    "def get_cluster_centers(clusters):\n",
    "    coords = list()\n",
    "    \n",
    "    for i in clusters[clusters.cluster != -1].cluster.unique():\n",
    "        center = clusters[clusters.cluster == i].unary_union.centroid.coords[0]\n",
    "        coord = list(center)\n",
    "        coords.append(coord)\n",
    "    return np.array(coords)"
   ]
  },
  {
   "cell_type": "code",
   "execution_count": 7,
   "metadata": {},
   "outputs": [],
   "source": [
    "def get_DBSCAN_cluster_centers(x, min_samples, eps=1e-3):\n",
    "    X = x.to_numpy()\n",
    "    dbscan = DBSCAN(eps, min_samples).fit(X)\n",
    "    gdf = df_to_gdf(x, x='lng', y='lat')\n",
    "    gdf['cluster'] = dbscan.labels_\n",
    "    coords = get_cluster_centers(clusters=gdf)\n",
    "    return coords"
   ]
  },
  {
   "cell_type": "code",
   "execution_count": 8,
   "metadata": {},
   "outputs": [],
   "source": [
    "def get_OPTICS_cluster_centers(x, min_samples):\n",
    "    np.seterr(divide='ignore', invalid='ignore')\n",
    "    X = x.to_numpy()\n",
    "    optics = OPTICS(min_samples).fit(X)\n",
    "    gdf = df_to_gdf(x, x='lng', y='lat')\n",
    "    gdf['cluster'] = optics.labels_\n",
    "    coords = get_cluster_centers(clusters=gdf)\n",
    "    return coords"
   ]
  },
  {
   "cell_type": "code",
   "execution_count": 9,
   "metadata": {},
   "outputs": [],
   "source": [
    "def get_MeanShift_cluster_centers(x, meters):\n",
    "    X = x.to_numpy()\n",
    "    \n",
    "    origin = geopy.Point(x.lat[0], x.lng[0])\n",
    "    destination = geodesic(meters=meters).destination(origin, 90)\n",
    "    \n",
    "    _x = np.array((x.lat[0], x.lng[0]))\n",
    "    _y = np.array((destination.latitude, destination.longitude))\n",
    "    dist = np.linalg.norm(_x-_y)\n",
    "    \n",
    "    mean_shift = MeanShift(bandwidth=dist).fit(X)\n",
    "    coords = mean_shift.cluster_centers_\n",
    "    return coords"
   ]
  },
  {
   "cell_type": "code",
   "execution_count": 10,
   "metadata": {},
   "outputs": [],
   "source": [
    "def create_voronoi_cell(coords, hull):\n",
    "    poly_shapes, pts, poly_to_pt_assignments = voronoi_regions_from_coords(coords, hull)\n",
    "    cell_df = gpd.GeoDataFrame(poly_shapes, columns=['geometry'])\n",
    "    cell_df = cell_df.reset_index().rename(columns={'index': 'cell_id'})\n",
    "    return cell_df"
   ]
  },
  {
   "cell_type": "code",
   "execution_count": 11,
   "metadata": {},
   "outputs": [],
   "source": [
    "X = stop_df[['lng', 'lat']]"
   ]
  },
  {
   "cell_type": "markdown",
   "metadata": {},
   "source": [
    "#### Parameter settings\n",
    "* k-means: [250, 200, 150, 100, 50]\n",
    "* DBSCAN: [2, 3, 4, 5, 6]\n",
    "* OPTICS: [-, 3, 4, 5, 6]\n",
    "* Mean shift: [200, 400, 600, 800, 1000]"
   ]
  },
  {
   "cell_type": "code",
   "execution_count": 12,
   "metadata": {
    "scrolled": true
   },
   "outputs": [],
   "source": [
    "# K = 50\n",
    "# coords = get_KMeans_cluster_centers(X, K)\n",
    "\n",
    "minPts = 2\n",
    "coords = get_DBSCAN_cluster_centers(X, minPts)\n",
    "\n",
    "# minPts = 6\n",
    "# coords = get_OPTICS_cluster_centers(X, minPts)\n",
    "\n",
    "# bandwidth = 1000\n",
    "# coords = get_MeanShift_cluster_centers(X, bandwidth)"
   ]
  },
  {
   "cell_type": "code",
   "execution_count": 13,
   "metadata": {},
   "outputs": [
    {
     "data": {
      "text/html": [
       "<div>\n",
       "<style scoped>\n",
       "    .dataframe tbody tr th:only-of-type {\n",
       "        vertical-align: middle;\n",
       "    }\n",
       "\n",
       "    .dataframe tbody tr th {\n",
       "        vertical-align: top;\n",
       "    }\n",
       "\n",
       "    .dataframe thead th {\n",
       "        text-align: right;\n",
       "    }\n",
       "</style>\n",
       "<table border=\"1\" class=\"dataframe\">\n",
       "  <thead>\n",
       "    <tr style=\"text-align: right;\">\n",
       "      <th></th>\n",
       "      <th>cell_id</th>\n",
       "      <th>geometry</th>\n",
       "    </tr>\n",
       "  </thead>\n",
       "  <tbody>\n",
       "    <tr>\n",
       "      <th>0</th>\n",
       "      <td>0</td>\n",
       "      <td>POLYGON ((126.6534031 37.35929288611246, 126.8...</td>\n",
       "    </tr>\n",
       "    <tr>\n",
       "      <th>1</th>\n",
       "      <td>1</td>\n",
       "      <td>POLYGON ((126.6534031 36.64976795329063, 127.2...</td>\n",
       "    </tr>\n",
       "    <tr>\n",
       "      <th>2</th>\n",
       "      <td>2</td>\n",
       "      <td>POLYGON ((126.6534031 37.50447616178172, 126.8...</td>\n",
       "    </tr>\n",
       "    <tr>\n",
       "      <th>3</th>\n",
       "      <td>3</td>\n",
       "      <td>POLYGON ((127.2145628135683 36.78855536544284,...</td>\n",
       "    </tr>\n",
       "    <tr>\n",
       "      <th>4</th>\n",
       "      <td>4</td>\n",
       "      <td>POLYGON ((127.2145628135683 36.78855536544284,...</td>\n",
       "    </tr>\n",
       "  </tbody>\n",
       "</table>\n",
       "</div>"
      ],
      "text/plain": [
       "   cell_id                                           geometry\n",
       "0        0  POLYGON ((126.6534031 37.35929288611246, 126.8...\n",
       "1        1  POLYGON ((126.6534031 36.64976795329063, 127.2...\n",
       "2        2  POLYGON ((126.6534031 37.50447616178172, 126.8...\n",
       "3        3  POLYGON ((127.2145628135683 36.78855536544284,...\n",
       "4        4  POLYGON ((127.2145628135683 36.78855536544284,..."
      ]
     },
     "execution_count": 13,
     "metadata": {},
     "output_type": "execute_result"
    }
   ],
   "source": [
    "hull = stop_gdf.geometry.unary_union.convex_hull.envelope\n",
    "\n",
    "cell_df = create_voronoi_cell(coords, hull)\n",
    "cell_df.head()"
   ]
  },
  {
   "cell_type": "code",
   "execution_count": 14,
   "metadata": {},
   "outputs": [],
   "source": [
    "def interior_point(points, polygon):\n",
    "    sindex = points.sindex # r-tree spatial indexing\n",
    "    possible_matches_index = list(sindex.intersection(polygon.bounds))\n",
    "    possible_matches = points.iloc[possible_matches_index]\n",
    "    precise_matches = possible_matches[possible_matches.intersects(polygon)]\n",
    "    return precise_matches"
   ]
  },
  {
   "cell_type": "code",
   "execution_count": 15,
   "metadata": {},
   "outputs": [],
   "source": [
    "def fixed_cell_mapping(points, cells):\n",
    "    fixed_cell_df = pd.DataFrame()\n",
    "    \n",
    "    for i in tqdm(cells.index):\n",
    "        if len(interior_point(points, cells.geometry[i])) != 0:\n",
    "            cell = interior_point(points, cells.geometry[i])\n",
    "            cell['cell_id'] = cells.cell_id[i]\n",
    "            cell['cell_geometry'] = cells.geometry[i]\n",
    "            fixed_cell_df = fixed_cell_df.append(cell)\n",
    "            \n",
    "    fixed_cell_df = fixed_cell_df.reset_index(drop=True)\n",
    "    return fixed_cell_df"
   ]
  },
  {
   "cell_type": "code",
   "execution_count": 16,
   "metadata": {},
   "outputs": [
    {
     "name": "stderr",
     "output_type": "stream",
     "text": [
      "100%|████████████████████████████████████████████████████████████████████████████████| 117/117 [00:04<00:00, 23.59it/s]\n"
     ]
    }
   ],
   "source": [
    "voronoi_cell_df = fixed_cell_mapping(stop_gdf, cell_df)"
   ]
  },
  {
   "cell_type": "code",
   "execution_count": 17,
   "metadata": {},
   "outputs": [],
   "source": [
    "def choropleth_map(cell_df):\n",
    "    import json, warnings\n",
    "    warnings.filterwarnings(action='ignore')\n",
    "    \n",
    "    sub_cell_df = cell_df.drop_duplicates(subset=['cell_id'])\n",
    "    geo_json = json.loads(gpd.GeoSeries(sub_cell_df.cell_geometry).to_json())\n",
    "    \n",
    "    count_df = cell_df.copy()\n",
    "    count_df['point'] = 1\n",
    "    count_df = count_df.groupby(['cell_id']).count()[['point']].reset_index()\n",
    "    \n",
    "    for idx, obj in enumerate(geo_json['features']):\n",
    "        obj['properties'].update({'cell_id': int(count_df.cell_id[idx])})\n",
    "        \n",
    "    osm_map = folium.Map(location=[37.5666103, 126.9783882], zoom_start=12)\n",
    "    osm_map.choropleth(\n",
    "        geo_data=geo_json,\n",
    "        data=count_df,\n",
    "        columns=['cell_id', 'point'],\n",
    "        fill_color='YlGnBu',\n",
    "        key_on='properties.cell_id',\n",
    "        # threshold_scale=[0.0, 1.9, 12.0, 22.0, 33.0, 43.0, 54.0, 64.0],\n",
    "        highligth=True,\n",
    "        fill_opacity=0.75,\n",
    "        line_opacity=0.5,\n",
    "        legend_name='# of stop points'\n",
    "    )\n",
    "    return osm_map"
   ]
  },
  {
   "cell_type": "code",
   "execution_count": 18,
   "metadata": {},
   "outputs": [
    {
     "data": {
      "text/html": [
       "<div style=\"width:100%;\"><div style=\"position:relative;width:100%;height:0;padding-bottom:60%;\"><iframe src=\"data:text/html;charset=utf-8;base64,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\" style=\"position:absolute;width:100%;height:100%;left:0;top:0;border:none !important;\" allowfullscreen webkitallowfullscreen mozallowfullscreen></iframe></div></div>"
      ],
      "text/plain": [
       "<folium.folium.Map at 0x20b8ffd8a58>"
      ]
     },
     "execution_count": 18,
     "metadata": {},
     "output_type": "execute_result"
    }
   ],
   "source": [
    "choropleth_map(voronoi_cell_df)"
   ]
  },
  {
   "cell_type": "markdown",
   "metadata": {},
   "source": [
    "### Feature extraction\n",
    "* Activity Frequency  \n",
    "\n",
    "$\\begin{align}Pr(a_{i}=l|b_{i}):=\\frac{\\sum^{N}_{j=1}\\delta_{a_{j},l}\\cdot\\delta_{b_{j},b_{i}}}\n",
    "{\\sum^{L}_{l=1}\\sum^{N}_{j=1}\\delta_{a_{j},l}\\cdot\\delta_{b_{j},b_{i}}}\\end{align}$"
   ]
  },
  {
   "cell_type": "code",
   "execution_count": 19,
   "metadata": {},
   "outputs": [],
   "source": [
    "def spatial_frequency(cells, activity_classes=4):\n",
    "    column_names = ['cell_id', 'spatial_1', 'spatial_2', 'spatial_3', 'spatial_4']\n",
    "    spatial_frequency = list()\n",
    "\n",
    "    for cell_id in cells.cell_id.unique():\n",
    "        activity_frequency = [cell_id]\n",
    "        cell = cells[cells.cell_id == cell_id]\n",
    "        activity_count = cell['cell_id'].groupby(cell['activity']).count()\n",
    "        total = len(cell)\n",
    "\n",
    "        for activity_type in range(activity_classes):\n",
    "            if activity_type in cell.activity.unique():\n",
    "                activity_frequency.append(activity_count[activity_type] / total)\n",
    "            else:\n",
    "                activity_frequency.append(0.0)\n",
    "        spatial_frequency.append(activity_frequency)\n",
    "    \n",
    "    spatial_frequency_df = pd.DataFrame(spatial_frequency, columns=column_names)\n",
    "    return spatial_frequency_df"
   ]
  },
  {
   "cell_type": "code",
   "execution_count": 20,
   "metadata": {},
   "outputs": [],
   "source": [
    "activity_classes = len(stop_df.activity.unique())"
   ]
  },
  {
   "cell_type": "code",
   "execution_count": 21,
   "metadata": {},
   "outputs": [
    {
     "data": {
      "text/html": [
       "<div>\n",
       "<style scoped>\n",
       "    .dataframe tbody tr th:only-of-type {\n",
       "        vertical-align: middle;\n",
       "    }\n",
       "\n",
       "    .dataframe tbody tr th {\n",
       "        vertical-align: top;\n",
       "    }\n",
       "\n",
       "    .dataframe thead th {\n",
       "        text-align: right;\n",
       "    }\n",
       "</style>\n",
       "<table border=\"1\" class=\"dataframe\">\n",
       "  <thead>\n",
       "    <tr style=\"text-align: right;\">\n",
       "      <th></th>\n",
       "      <th>uid</th>\n",
       "      <th>id</th>\n",
       "      <th>spatial_1</th>\n",
       "      <th>spatial_2</th>\n",
       "      <th>spatial_3</th>\n",
       "      <th>spatial_4</th>\n",
       "    </tr>\n",
       "  </thead>\n",
       "  <tbody>\n",
       "    <tr>\n",
       "      <th>0</th>\n",
       "      <td>731</td>\n",
       "      <td>1568383</td>\n",
       "      <td>0.0</td>\n",
       "      <td>0.166667</td>\n",
       "      <td>0.166667</td>\n",
       "      <td>0.666667</td>\n",
       "    </tr>\n",
       "    <tr>\n",
       "      <th>1</th>\n",
       "      <td>3628</td>\n",
       "      <td>559217</td>\n",
       "      <td>0.0</td>\n",
       "      <td>0.166667</td>\n",
       "      <td>0.166667</td>\n",
       "      <td>0.666667</td>\n",
       "    </tr>\n",
       "    <tr>\n",
       "      <th>2</th>\n",
       "      <td>8141</td>\n",
       "      <td>887514</td>\n",
       "      <td>0.0</td>\n",
       "      <td>0.166667</td>\n",
       "      <td>0.166667</td>\n",
       "      <td>0.666667</td>\n",
       "    </tr>\n",
       "    <tr>\n",
       "      <th>3</th>\n",
       "      <td>864</td>\n",
       "      <td>1187347</td>\n",
       "      <td>0.0</td>\n",
       "      <td>0.166667</td>\n",
       "      <td>0.166667</td>\n",
       "      <td>0.666667</td>\n",
       "    </tr>\n",
       "    <tr>\n",
       "      <th>4</th>\n",
       "      <td>8466</td>\n",
       "      <td>1194465</td>\n",
       "      <td>0.0</td>\n",
       "      <td>0.166667</td>\n",
       "      <td>0.166667</td>\n",
       "      <td>0.666667</td>\n",
       "    </tr>\n",
       "  </tbody>\n",
       "</table>\n",
       "</div>"
      ],
      "text/plain": [
       "    uid       id  spatial_1  spatial_2  spatial_3  spatial_4\n",
       "0   731  1568383        0.0   0.166667   0.166667   0.666667\n",
       "1  3628   559217        0.0   0.166667   0.166667   0.666667\n",
       "2  8141   887514        0.0   0.166667   0.166667   0.666667\n",
       "3   864  1187347        0.0   0.166667   0.166667   0.666667\n",
       "4  8466  1194465        0.0   0.166667   0.166667   0.666667"
      ]
     },
     "execution_count": 21,
     "metadata": {},
     "output_type": "execute_result"
    }
   ],
   "source": [
    "spatial_frequency_df = spatial_frequency(voronoi_cell_df)\n",
    "spatial_frequency_df = pd.merge(voronoi_cell_df, spatial_frequency_df, how='left')\n",
    "spatial_frequency_df = spatial_frequency_df[['uid', 'id', 'spatial_1', 'spatial_2', 'spatial_3', 'spatial_4']]\n",
    "spatial_frequency_df.head()"
   ]
  },
  {
   "cell_type": "code",
   "execution_count": 22,
   "metadata": {},
   "outputs": [],
   "source": [
    "poi_df = pd.read_csv('./data/POIs_mapping.csv')\n",
    "poi_gdf = df_to_gdf(poi_df, x='lng', y='lat')\n",
    "poi_gdf['activity'] = poi_gdf['activity_class']"
   ]
  },
  {
   "cell_type": "code",
   "execution_count": 23,
   "metadata": {},
   "outputs": [],
   "source": [
    "map_cell_df = voronoi_cell_df.drop_duplicates(subset=['cell_id'])[['cell_id', 'cell_geometry']]\n",
    "map_cell_df = map_cell_df.rename(columns={'cell_geometry': 'geometry'})"
   ]
  },
  {
   "cell_type": "code",
   "execution_count": 24,
   "metadata": {},
   "outputs": [
    {
     "name": "stderr",
     "output_type": "stream",
     "text": [
      "100%|████████████████████████████████████████████████████████████████████████████████| 117/117 [00:08<00:00, 17.03it/s]\n"
     ]
    }
   ],
   "source": [
    "voronoi_cell_poi_df = fixed_cell_mapping(poi_gdf, map_cell_df)"
   ]
  },
  {
   "cell_type": "code",
   "execution_count": 25,
   "metadata": {},
   "outputs": [],
   "source": [
    "contextual_frequency_df = spatial_frequency(voronoi_cell_poi_df)\n",
    "contextual_frequency_df = contextual_frequency_df.rename(\n",
    "    columns={'spatial_1': 'contextual_1',\n",
    "             'spatial_2': 'contextual_2',\n",
    "             'spatial_3': 'contextual_3',\n",
    "             'spatial_4': 'contextual_4'})"
   ]
  },
  {
   "cell_type": "code",
   "execution_count": 26,
   "metadata": {},
   "outputs": [
    {
     "data": {
      "text/html": [
       "<div>\n",
       "<style scoped>\n",
       "    .dataframe tbody tr th:only-of-type {\n",
       "        vertical-align: middle;\n",
       "    }\n",
       "\n",
       "    .dataframe tbody tr th {\n",
       "        vertical-align: top;\n",
       "    }\n",
       "\n",
       "    .dataframe thead th {\n",
       "        text-align: right;\n",
       "    }\n",
       "</style>\n",
       "<table border=\"1\" class=\"dataframe\">\n",
       "  <thead>\n",
       "    <tr style=\"text-align: right;\">\n",
       "      <th></th>\n",
       "      <th>id</th>\n",
       "      <th>contextual_1</th>\n",
       "      <th>contextual_2</th>\n",
       "      <th>contextual_3</th>\n",
       "      <th>contextual_4</th>\n",
       "    </tr>\n",
       "  </thead>\n",
       "  <tbody>\n",
       "    <tr>\n",
       "      <th>0</th>\n",
       "      <td>1568383</td>\n",
       "      <td>0.71087</td>\n",
       "      <td>0.002174</td>\n",
       "      <td>0.143478</td>\n",
       "      <td>0.143478</td>\n",
       "    </tr>\n",
       "    <tr>\n",
       "      <th>1</th>\n",
       "      <td>559217</td>\n",
       "      <td>0.71087</td>\n",
       "      <td>0.002174</td>\n",
       "      <td>0.143478</td>\n",
       "      <td>0.143478</td>\n",
       "    </tr>\n",
       "    <tr>\n",
       "      <th>2</th>\n",
       "      <td>887514</td>\n",
       "      <td>0.71087</td>\n",
       "      <td>0.002174</td>\n",
       "      <td>0.143478</td>\n",
       "      <td>0.143478</td>\n",
       "    </tr>\n",
       "    <tr>\n",
       "      <th>3</th>\n",
       "      <td>1187347</td>\n",
       "      <td>0.71087</td>\n",
       "      <td>0.002174</td>\n",
       "      <td>0.143478</td>\n",
       "      <td>0.143478</td>\n",
       "    </tr>\n",
       "    <tr>\n",
       "      <th>4</th>\n",
       "      <td>1194465</td>\n",
       "      <td>0.71087</td>\n",
       "      <td>0.002174</td>\n",
       "      <td>0.143478</td>\n",
       "      <td>0.143478</td>\n",
       "    </tr>\n",
       "  </tbody>\n",
       "</table>\n",
       "</div>"
      ],
      "text/plain": [
       "        id  contextual_1  contextual_2  contextual_3  contextual_4\n",
       "0  1568383       0.71087      0.002174      0.143478      0.143478\n",
       "1   559217       0.71087      0.002174      0.143478      0.143478\n",
       "2   887514       0.71087      0.002174      0.143478      0.143478\n",
       "3  1187347       0.71087      0.002174      0.143478      0.143478\n",
       "4  1194465       0.71087      0.002174      0.143478      0.143478"
      ]
     },
     "execution_count": 26,
     "metadata": {},
     "output_type": "execute_result"
    }
   ],
   "source": [
    "uniform_prob = 1.0 / activity_classes\n",
    "contextual_frequency_df = pd.merge(voronoi_cell_df, contextual_frequency_df, how='left')\n",
    "contextual_frequency_df = contextual_frequency_df[['id', 'contextual_1', 'contextual_2', 'contextual_3', 'contextual_4']]\n",
    "contextual_frequency_df = contextual_frequency_df.fillna(uniform_prob)\n",
    "contextual_frequency_df.head()"
   ]
  },
  {
   "cell_type": "code",
   "execution_count": 27,
   "metadata": {},
   "outputs": [
    {
     "data": {
      "text/html": [
       "<div>\n",
       "<style scoped>\n",
       "    .dataframe tbody tr th:only-of-type {\n",
       "        vertical-align: middle;\n",
       "    }\n",
       "\n",
       "    .dataframe tbody tr th {\n",
       "        vertical-align: top;\n",
       "    }\n",
       "\n",
       "    .dataframe thead th {\n",
       "        text-align: right;\n",
       "    }\n",
       "</style>\n",
       "<table border=\"1\" class=\"dataframe\">\n",
       "  <thead>\n",
       "    <tr style=\"text-align: right;\">\n",
       "      <th></th>\n",
       "      <th>uid</th>\n",
       "      <th>id</th>\n",
       "      <th>spatial_1</th>\n",
       "      <th>spatial_2</th>\n",
       "      <th>spatial_3</th>\n",
       "      <th>spatial_4</th>\n",
       "      <th>contextual_1</th>\n",
       "      <th>contextual_2</th>\n",
       "      <th>contextual_3</th>\n",
       "      <th>contextual_4</th>\n",
       "    </tr>\n",
       "  </thead>\n",
       "  <tbody>\n",
       "    <tr>\n",
       "      <th>0</th>\n",
       "      <td>731</td>\n",
       "      <td>1568383</td>\n",
       "      <td>0.0</td>\n",
       "      <td>0.166667</td>\n",
       "      <td>0.166667</td>\n",
       "      <td>0.666667</td>\n",
       "      <td>0.71087</td>\n",
       "      <td>0.002174</td>\n",
       "      <td>0.143478</td>\n",
       "      <td>0.143478</td>\n",
       "    </tr>\n",
       "    <tr>\n",
       "      <th>1</th>\n",
       "      <td>3628</td>\n",
       "      <td>559217</td>\n",
       "      <td>0.0</td>\n",
       "      <td>0.166667</td>\n",
       "      <td>0.166667</td>\n",
       "      <td>0.666667</td>\n",
       "      <td>0.71087</td>\n",
       "      <td>0.002174</td>\n",
       "      <td>0.143478</td>\n",
       "      <td>0.143478</td>\n",
       "    </tr>\n",
       "    <tr>\n",
       "      <th>2</th>\n",
       "      <td>8141</td>\n",
       "      <td>887514</td>\n",
       "      <td>0.0</td>\n",
       "      <td>0.166667</td>\n",
       "      <td>0.166667</td>\n",
       "      <td>0.666667</td>\n",
       "      <td>0.71087</td>\n",
       "      <td>0.002174</td>\n",
       "      <td>0.143478</td>\n",
       "      <td>0.143478</td>\n",
       "    </tr>\n",
       "    <tr>\n",
       "      <th>3</th>\n",
       "      <td>864</td>\n",
       "      <td>1187347</td>\n",
       "      <td>0.0</td>\n",
       "      <td>0.166667</td>\n",
       "      <td>0.166667</td>\n",
       "      <td>0.666667</td>\n",
       "      <td>0.71087</td>\n",
       "      <td>0.002174</td>\n",
       "      <td>0.143478</td>\n",
       "      <td>0.143478</td>\n",
       "    </tr>\n",
       "    <tr>\n",
       "      <th>4</th>\n",
       "      <td>8466</td>\n",
       "      <td>1194465</td>\n",
       "      <td>0.0</td>\n",
       "      <td>0.166667</td>\n",
       "      <td>0.166667</td>\n",
       "      <td>0.666667</td>\n",
       "      <td>0.71087</td>\n",
       "      <td>0.002174</td>\n",
       "      <td>0.143478</td>\n",
       "      <td>0.143478</td>\n",
       "    </tr>\n",
       "  </tbody>\n",
       "</table>\n",
       "</div>"
      ],
      "text/plain": [
       "    uid       id  spatial_1  spatial_2  spatial_3  spatial_4  contextual_1  \\\n",
       "0   731  1568383        0.0   0.166667   0.166667   0.666667       0.71087   \n",
       "1  3628   559217        0.0   0.166667   0.166667   0.666667       0.71087   \n",
       "2  8141   887514        0.0   0.166667   0.166667   0.666667       0.71087   \n",
       "3   864  1187347        0.0   0.166667   0.166667   0.666667       0.71087   \n",
       "4  8466  1194465        0.0   0.166667   0.166667   0.666667       0.71087   \n",
       "\n",
       "   contextual_2  contextual_3  contextual_4  \n",
       "0      0.002174      0.143478      0.143478  \n",
       "1      0.002174      0.143478      0.143478  \n",
       "2      0.002174      0.143478      0.143478  \n",
       "3      0.002174      0.143478      0.143478  \n",
       "4      0.002174      0.143478      0.143478  "
      ]
     },
     "execution_count": 27,
     "metadata": {},
     "output_type": "execute_result"
    }
   ],
   "source": [
    "activity_frequency_df = pd.merge(spatial_frequency_df, contextual_frequency_df)\n",
    "activity_frequency_df.head()"
   ]
  },
  {
   "cell_type": "code",
   "execution_count": null,
   "metadata": {},
   "outputs": [],
   "source": [
    "assert len(stop_df) == len(activity_frequency_df)"
   ]
  },
  {
   "cell_type": "markdown",
   "metadata": {},
   "source": [
    "* Distance-based empirical probability  \n",
    "\n",
    "$\\begin{align}Pr(a_{i}=l|\\mathcal{X}_{l}(c_{i})):=\\phi(d(p_{i},\\mathcal{X}_{l}(c_{i})))\\end{align}$  \n",
    "\n",
    "and  \n",
    "\n",
    "$\\begin{align}Pr(a_{i}=l|\\mathcal{A}_{l}(c_{i})):=\\phi (d(p_{i},\\mathcal{A}_{l}(c_{i})))\\end{align}$"
   ]
  },
  {
   "cell_type": "code",
   "execution_count": null,
   "metadata": {},
   "outputs": [],
   "source": [
    "def distance_based_probability(point_i, point_j, activity_classes):\n",
    "    norm_dist_list = [point_i.id]\n",
    "    \n",
    "    for activity_type in range(activity_classes): \n",
    "        activity_cell = point_j[point_j['activity'] == activity_type]\n",
    "\n",
    "        if len(activity_cell) != 0:\n",
    "            sindex = activity_cell.sindex # r-tree\n",
    "            nearest_index = list(sindex.nearest(point_i.geometry.bounds, 1))[0]\n",
    "            dist = point_i.geometry.distance(activity_cell.iloc[nearest_index].geometry)\n",
    "            norm_dist = (1 + (dist**2))**-1\n",
    "            norm_dist_list.append(norm_dist)\n",
    "        else:\n",
    "            norm_dist_list.append(0.0)\n",
    "    return norm_dist_list"
   ]
  },
  {
   "cell_type": "code",
   "execution_count": null,
   "metadata": {},
   "outputs": [],
   "source": [
    "# Historical Neighbor Activity Confidence\n",
    "def historical_neighbor(cell, activity_classes=4):\n",
    "    column_names = ['id', 'historical_1 (min)', 'historical_2 (min)', 'historical_3 (min)', 'historical_4 (min)']\n",
    "    historical_neighbor_df = pd.DataFrame()\n",
    "    \n",
    "    for i in cell.index:\n",
    "        point_i = cell.loc[i]\n",
    "        point_j = cell[~cell.index.isin([point_i.name])]\n",
    "        dist_probs = distance_based_probability(point_i, point_j, activity_classes)\n",
    "        historical_neighbor_df = historical_neighbor_df.append([dist_probs])\n",
    "        \n",
    "    historical_neighbor_df.columns = column_names\n",
    "    return historical_neighbor_df"
   ]
  },
  {
   "cell_type": "code",
   "execution_count": null,
   "metadata": {},
   "outputs": [],
   "source": [
    "# Contextual Neighbor Activity Confidence\n",
    "def contextual_neighbor(cell, pois, activity_classes=4):\n",
    "    column_names = ['id', 'contextual_1 (min)', 'contextual_2 (min)', 'contextual_3 (min)', 'contextual_4 (min)']\n",
    "    contextual_neighbor_df = pd.DataFrame()\n",
    "    \n",
    "    for i in cell.index:\n",
    "        point_i = cell.loc[i]\n",
    "        point_j = pois[pois.cell_id == point_i.cell_id]\n",
    "        \n",
    "        if len(point_j) != 0:\n",
    "            dist_probs = distance_based_probability(point_i, point_j, activity_classes)\n",
    "        else:\n",
    "            dist_probs = [point_i.id]\n",
    "            zero_probs = [0.0] * activity_classes\n",
    "            dist_probs.extend(zero_probs)\n",
    "        contextual_neighbor_df = contextual_neighbor_df.append([dist_probs])\n",
    "    \n",
    "    contextual_neighbor_df.columns = column_names\n",
    "    return contextual_neighbor_df"
   ]
  },
  {
   "cell_type": "code",
   "execution_count": null,
   "metadata": {},
   "outputs": [
    {
     "name": "stderr",
     "output_type": "stream",
     "text": [
      " 79%|███████████████████████████████████████████████████████████████▋                 | 92/117 [00:17<00:04,  5.95it/s]"
     ]
    }
   ],
   "source": [
    "historical_dist_probs_df = pd.DataFrame()\n",
    "contextual_dist_probs_df = pd.DataFrame()\n",
    "\n",
    "for cell_id in tqdm(voronoi_cell_df.cell_id.unique()):\n",
    "    cell_i = voronoi_cell_df[voronoi_cell_df.cell_id == cell_id]\n",
    "    \n",
    "    historical_dist_probs = historical_neighbor(cell_i)\n",
    "    contextual_dist_probs = contextual_neighbor(cell_i, voronoi_cell_poi_df)\n",
    "    \n",
    "    historical_dist_probs_df = historical_dist_probs_df.append(historical_dist_probs)\n",
    "    contextual_dist_probs_df = contextual_dist_probs_df.append(contextual_dist_probs)"
   ]
  },
  {
   "cell_type": "code",
   "execution_count": null,
   "metadata": {},
   "outputs": [],
   "source": [
    "dist_probs_df = pd.merge(historical_dist_probs_df, contextual_dist_probs_df)\n",
    "dist_probs_df.head()"
   ]
  },
  {
   "cell_type": "code",
   "execution_count": null,
   "metadata": {},
   "outputs": [],
   "source": [
    "assert len(stop_df) == len(dist_probs_df)"
   ]
  },
  {
   "cell_type": "markdown",
   "metadata": {},
   "source": [
    "### Feature vector\n",
    "$\\begin{align}x=[Temporal\\ Activity\\ Frequency \\in \\mathbb{R}^{1 \\times L},\\end{align}$<br/>\n",
    "$\\begin{align}\\qquad Spatial\\ Activity\\ Frequency \\in \\mathbb{R}^{1 \\times L},\\end{align}$<br/>\n",
    "$\\begin{align}\\qquad Contextual\\ Activity\\ Frequency \\in \\mathbb{R}^{1 \\times L},\\end{align}$<br/>\n",
    "$\\begin{align}\\qquad Historical\\ Activity\\ Confidence \\in \\mathbb{R}^{1 \\times L},\\end{align}$<br/>\n",
    "$\\begin{align}\\qquad Contextual\\ Activity\\ Confidence \\in \\mathbb{R}^{1 \\times L}]^{T} \\in \\mathbb{R}^{5L} \\end{align}$"
   ]
  },
  {
   "cell_type": "code",
   "execution_count": null,
   "metadata": {},
   "outputs": [],
   "source": [
    "feature_vector_df = pd.merge(activity_frequency_df, dist_probs_df, on='id')\n",
    "feature_vector_df = pd.merge(feature_vector_df, stop_df[['uid', 'id', 'activity']]) # label\n",
    "feature_vector_df.head()"
   ]
  },
  {
   "cell_type": "code",
   "execution_count": null,
   "metadata": {},
   "outputs": [],
   "source": [
    "assert len(stop_df) == len(feature_vector_df)"
   ]
  },
  {
   "cell_type": "markdown",
   "metadata": {},
   "source": [
    "### Save"
   ]
  },
  {
   "cell_type": "code",
   "execution_count": null,
   "metadata": {},
   "outputs": [],
   "source": [
    "# feature_vector_df.to_csv(f'./data/parameter_settings/pre_voronoi_k-means_{K}.csv', index=False)\n",
    "# feature_vector_df.to_csv(f'./data/parameter_settings/pre_voronoi_DBSCAN_{minPts}.csv', index=False)\n",
    "# feature_vector_df.to_csv(f'./data/parameter_settings/pre_voronoi_OPTICS_{minPts}.csv', index=False)\n",
    "# feature_vector_df.to_csv(f'./data/parameter_settings/pre_voronoi_MeanShift_{bandwidth}.csv', index=False)"
   ]
  },
  {
   "cell_type": "code",
   "execution_count": null,
   "metadata": {},
   "outputs": [],
   "source": [
    "count_df = voronoi_cell_df.groupby('cell_id').count()\n",
    "count_df = count_df.reset_index()[['cell_id', 'id']]\n",
    "count_df = count_df[count_df.id == 1]\n",
    "\n",
    "train_ids = voronoi_cell_df[voronoi_cell_df.cell_id.isin(count_df.cell_id.tolist())]\n",
    "train_ids = train_ids[['id']]"
   ]
  },
  {
   "cell_type": "code",
   "execution_count": null,
   "metadata": {},
   "outputs": [],
   "source": [
    "# train_ids.to_csv(f'./data/parameter_settings/pre_voronoi_k-means_{K}_train_ids.csv', index=False)\n",
    "# train_ids.to_csv(f'./data/parameter_settings/pre_voronoi_MeanShift_{bandwidth}_train_ids.csv', index=False)"
   ]
  }
 ],
 "metadata": {
  "kernelspec": {
   "display_name": "Python 3",
   "language": "python",
   "name": "python3"
  },
  "language_info": {
   "codemirror_mode": {
    "name": "ipython",
    "version": 3
   },
   "file_extension": ".py",
   "mimetype": "text/x-python",
   "name": "python",
   "nbconvert_exporter": "python",
   "pygments_lexer": "ipython3",
   "version": "3.6.8"
  }
 },
 "nbformat": 4,
 "nbformat_minor": 2
}

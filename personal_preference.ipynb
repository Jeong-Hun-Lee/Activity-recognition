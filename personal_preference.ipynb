{
 "cells": [
  {
   "cell_type": "code",
   "execution_count": 1,
   "metadata": {},
   "outputs": [],
   "source": [
    "import numpy as np\n",
    "import pandas as pd\n",
    "import geopandas as gpd\n",
    "from shapely.geometry import Point\n",
    "from datetime import timedelta"
   ]
  },
  {
   "cell_type": "markdown",
   "metadata": {},
   "source": [
    "### Dataset"
   ]
  },
  {
   "cell_type": "code",
   "execution_count": 2,
   "metadata": {},
   "outputs": [],
   "source": [
    "def df_to_gdf(df, x, y):\n",
    "    geometry = [Point(xy) for xy in zip(df[x], df[y])] # create Geometry series with lat / longitude\n",
    "    df = df.drop([x, y], axis=1)\n",
    "    gdf = gpd.GeoDataFrame(df, crs=None, geometry=geometry)\n",
    "    return gdf"
   ]
  },
  {
   "cell_type": "code",
   "execution_count": 3,
   "metadata": {},
   "outputs": [],
   "source": [
    "DATA_DIR = './data'\n",
    "\n",
    "stop_df = pd.read_csv(DATA_DIR + '/pre_stop_points.csv')\n",
    "stop_df.start_time = pd.to_datetime(stop_df.start_time)\n",
    "stop_df.end_time = pd.to_datetime(stop_df.end_time)\n",
    "stop_gdf = df_to_gdf(stop_df, x='lng', y='lat')\n",
    "\n",
    "poi_df = pd.read_csv(DATA_DIR + '/POIs_mapping.csv')\n",
    "poi_gdf = df_to_gdf(poi_df, x='lng', y='lat')"
   ]
  },
  {
   "cell_type": "markdown",
   "metadata": {},
   "source": [
    "### Personal preference"
   ]
  },
  {
   "cell_type": "markdown",
   "metadata": {},
   "source": [
    "#### Node potential\n",
    "$\n",
    "\\begin{align}\n",
    "\\phi_{i}(y_{i} = v_{k}) \\leftarrow P(v_{k}.l|r_{i}.l) \\propto \\exp \\bigg\\{-\\frac{D(r_{i}.l, v_{k}.l)}{2\\sigma^{2}}\\bigg\\}\n",
    "\\end{align}\n",
    "$"
   ]
  },
  {
   "cell_type": "code",
   "execution_count": 4,
   "metadata": {},
   "outputs": [],
   "source": [
    "def get_nearest_points(k, base_point, candidate_points):\n",
    "    sindex = candidate_points.sindex # r-tree\n",
    "    nearest_index = list(sindex.nearest(base_point.geometry.iloc[0].bounds, k))\n",
    "    nearest_points = candidate_points.iloc[nearest_index]\n",
    "    return nearest_points"
   ]
  },
  {
   "cell_type": "code",
   "execution_count": 5,
   "metadata": {},
   "outputs": [],
   "source": [
    "def dist(origin, departure):\n",
    "    from geopy.distance import geodesic\n",
    "    geo_dist = geodesic(\n",
    "        (origin.coords[0][1], origin.coords[0][0]),\n",
    "        (departure.coords[0][1], departure.coords[0][0])\n",
    "    ).meters\n",
    "    return geo_dist"
   ]
  },
  {
   "cell_type": "code",
   "execution_count": 6,
   "metadata": {},
   "outputs": [],
   "source": [
    "def node_potential(record, venue):\n",
    "    sigma = 1e-4\n",
    "    potential_value = np.exp(-(dist(record, venue) / 2*sigma**2))\n",
    "    return potential_value"
   ]
  },
  {
   "cell_type": "markdown",
   "metadata": {},
   "source": [
    "#### Pairwise potential\n",
    "$\\begin{align}\n",
    "\\psi_{ij}(y_{i}, y_{j})=\n",
    "    \\begin{cases}\n",
    "    1 & \\text{if } y_{i} = y_{j}\\\\\n",
    "    e^{-\\alpha} & \\text{if } y_{i}.c = y_{j}.c \\wedge y_{i} \\neq y_{j}\\\\\n",
    "    e^{-\\beta} & \\text{if } y_{i}.c \\neq y_{j}.c\n",
    "    \\end{cases}\n",
    "\\end{align}$"
   ]
  },
  {
   "cell_type": "code",
   "execution_count": 7,
   "metadata": {},
   "outputs": [],
   "source": [
    "# α=0.1\n",
    "# β=0.2\n",
    "def pairwise_potential(nearest_points, edge_df, alpha=0.1, beta=0.2):\n",
    "    potential_value = list()\n",
    "    \n",
    "    for i in nearest_points.index:\n",
    "        for edge in edge_df.index:\n",
    "            if (nearest_points.activity_class[i] == edge_df.activity_class[edge]) and edge_df.geo_distance[edge] < 50:\n",
    "                potential_value.append(1.0)\n",
    "            elif nearest_points.activity_class[i] == edge_df.activity_class[edge]:\n",
    "                potential_value.append(np.exp(-alpha))\n",
    "            else:\n",
    "                potential_value.append(np.exp(-beta))\n",
    "    return potential_value"
   ]
  },
  {
   "cell_type": "markdown",
   "metadata": {},
   "source": [
    "#### Edge list\n",
    "$\\begin{align}\n",
    "\\mathcal{N} = \\mathcal{N}_{T} \\cup \\mathcal{N}_{D},\n",
    "\\end{align}$  \n",
    "$\\begin{align}\n",
    "\\mathcal{N}_{D} = \\{<i,j>:D(r_{i},r_{j}) < \\xi_{D}\\},\n",
    "\\end{align}$  \n",
    "$\\begin{align}\n",
    "\\mathcal{N}_{T} = \\{<i,j>:T(r_{i},r_{j}) < \\xi_{T}\\},\n",
    "\\end{align}$  "
   ]
  },
  {
   "cell_type": "markdown",
   "metadata": {},
   "source": [
    "#### Pairwise Markov Random Field\n",
    "$\\begin{align}\n",
    "P(Y) = \\frac{1}{Z} \\prod_{i} \\phi_{i}(y_{i}) \\prod_{<i,j> \\in \\mathcal{N}} \\psi_{ij}(y_{i}, y_{j})\n",
    "\\end{align}$  \n",
    "  \n",
    "$\\begin{align}\n",
    "E(Y) = \\sum_{i} -\\log\\phi_{i}(y_{i}) \\sum_{<i,j> \\in \\mathcal{N}} -\\log\\psi_{ij}(y_{i}, y_{j})\n",
    "\\end{align}$"
   ]
  },
  {
   "cell_type": "code",
   "execution_count": 8,
   "metadata": {},
   "outputs": [],
   "source": [
    "def pairwise_MRF(node, edges, label, normalize=False):\n",
    "    node_e = -np.log(node_potential(node.geometry.iloc[0], label.geometry.iloc[0]))\n",
    "    pairwise_e = sum(-np.log(pairwise_potential(label, edges)))\n",
    "    energy = node_e + pairwise_e\n",
    "    \n",
    "    if normalize:\n",
    "        energy = (1 + (energy**2))**-1\n",
    "    return energy"
   ]
  },
  {
   "cell_type": "markdown",
   "metadata": {},
   "source": [
    "#### Energy value"
   ]
  },
  {
   "cell_type": "code",
   "execution_count": null,
   "metadata": {
    "scrolled": true
   },
   "outputs": [
    {
     "name": "stderr",
     "output_type": "stream",
     "text": [
      " 45%|████████████████████████████████████▊                                             | 22/49 [06:24<07:56, 17.65s/it]"
     ]
    }
   ],
   "source": [
    "from tqdm import tqdm\n",
    "\n",
    "energy_df = pd.DataFrame()\n",
    "\n",
    "for uid in tqdm(stop_gdf.uid.unique()):\n",
    "    user_df = stop_gdf[stop_gdf.uid == uid]\n",
    "    _user_df = user_df.reset_index(drop=True)\n",
    "    \n",
    "    for i in _user_df.index:\n",
    "        base_point = _user_df.iloc[[i]]\n",
    "        energy_list = [base_point.id.iloc[0]]\n",
    "        \n",
    "        for atv_class in range(4):\n",
    "            candidate_points = poi_gdf[poi_gdf.activity_class == atv_class]\n",
    "            nearest_points = get_nearest_points(5, base_point, candidate_points)\n",
    "\n",
    "            _base_point = [base_point.geometry.iloc[0]] * len(_user_df)\n",
    "            geo_distance = list(map(dist, _base_point, _user_df.geometry))\n",
    "            base_time = base_point.start_time.iloc[0]\n",
    "            timestamp = abs(base_time - _user_df.start_time) % timedelta(days=1)\n",
    "\n",
    "            _user_df['timestamp'] = timestamp\n",
    "            _user_df['geo_distance'] = geo_distance\n",
    "            edge_df = _user_df[(_user_df.timestamp < timedelta(hours=1)) & (_user_df.geo_distance < 100) &\n",
    "                               (~_user_df.id.isin(base_point.id))]\n",
    "            energy = list([pairwise_MRF(base_point, edge_df,\n",
    "                                        label=nearest_points.iloc[[k]],\n",
    "                                        normalize=False) for k in range(len(nearest_points))])\n",
    "            \n",
    "            tmp_df = pd.DataFrame(energy, columns=['energy'])\n",
    "            argmin = tmp_df.energy.idxmin()\n",
    "            energy = tmp_df.iloc[argmin].iloc[0]\n",
    "            energy_list.append(energy)\n",
    "        energy_df = energy_df.append(pd.DataFrame([energy_list], columns=['id', 'energy_1', 'energy_2', 'energy_3', 'energy_4']))"
   ]
  }
 ],
 "metadata": {
  "kernelspec": {
   "display_name": "Python 3",
   "language": "python",
   "name": "python3"
  },
  "language_info": {
   "codemirror_mode": {
    "name": "ipython",
    "version": 3
   },
   "file_extension": ".py",
   "mimetype": "text/x-python",
   "name": "python",
   "nbconvert_exporter": "python",
   "pygments_lexer": "ipython3",
   "version": "3.6.8"
  }
 },
 "nbformat": 4,
 "nbformat_minor": 2
}

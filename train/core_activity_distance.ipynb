{
 "cells": [
  {
   "cell_type": "code",
   "execution_count": 1,
   "metadata": {},
   "outputs": [],
   "source": [
    "import pandas as pd\n",
    "import geopandas as gpd\n",
    "from shapely.geometry import Point\n",
    "from geopy.distance import geodesic"
   ]
  },
  {
   "cell_type": "markdown",
   "metadata": {},
   "source": [
    "### Stop points"
   ]
  },
  {
   "cell_type": "code",
   "execution_count": 2,
   "metadata": {},
   "outputs": [
    {
     "data": {
      "text/html": [
       "<div>\n",
       "<style scoped>\n",
       "    .dataframe tbody tr th:only-of-type {\n",
       "        vertical-align: middle;\n",
       "    }\n",
       "\n",
       "    .dataframe tbody tr th {\n",
       "        vertical-align: top;\n",
       "    }\n",
       "\n",
       "    .dataframe thead th {\n",
       "        text-align: right;\n",
       "    }\n",
       "</style>\n",
       "<table border=\"1\" class=\"dataframe\">\n",
       "  <thead>\n",
       "    <tr style=\"text-align: right;\">\n",
       "      <th></th>\n",
       "      <th>uid</th>\n",
       "      <th>id</th>\n",
       "      <th>lat</th>\n",
       "      <th>lng</th>\n",
       "      <th>start_time</th>\n",
       "      <th>end_time</th>\n",
       "      <th>activity</th>\n",
       "    </tr>\n",
       "  </thead>\n",
       "  <tbody>\n",
       "    <tr>\n",
       "      <th>0</th>\n",
       "      <td>9497</td>\n",
       "      <td>250460</td>\n",
       "      <td>37.554742</td>\n",
       "      <td>127.026641</td>\n",
       "      <td>2019-11-07 10:45:58</td>\n",
       "      <td>2019-11-07 16:00:49</td>\n",
       "      <td>0.0</td>\n",
       "    </tr>\n",
       "    <tr>\n",
       "      <th>1</th>\n",
       "      <td>9497</td>\n",
       "      <td>240029</td>\n",
       "      <td>37.564022</td>\n",
       "      <td>127.035580</td>\n",
       "      <td>2019-11-06 23:27:51</td>\n",
       "      <td>2019-11-07 10:45:58</td>\n",
       "      <td>3.0</td>\n",
       "    </tr>\n",
       "    <tr>\n",
       "      <th>2</th>\n",
       "      <td>9497</td>\n",
       "      <td>238990</td>\n",
       "      <td>37.560267</td>\n",
       "      <td>127.033065</td>\n",
       "      <td>2019-11-06 20:22:16</td>\n",
       "      <td>2019-11-06 23:25:41</td>\n",
       "      <td>3.0</td>\n",
       "    </tr>\n",
       "    <tr>\n",
       "      <th>3</th>\n",
       "      <td>9497</td>\n",
       "      <td>234786</td>\n",
       "      <td>37.561929</td>\n",
       "      <td>127.038133</td>\n",
       "      <td>2019-11-06 17:15:56</td>\n",
       "      <td>2019-11-06 18:13:46</td>\n",
       "      <td>3.0</td>\n",
       "    </tr>\n",
       "    <tr>\n",
       "      <th>4</th>\n",
       "      <td>9497</td>\n",
       "      <td>226233</td>\n",
       "      <td>37.561171</td>\n",
       "      <td>127.037129</td>\n",
       "      <td>2019-11-06 07:49:15</td>\n",
       "      <td>2019-11-06 08:29:32</td>\n",
       "      <td>3.0</td>\n",
       "    </tr>\n",
       "  </tbody>\n",
       "</table>\n",
       "</div>"
      ],
      "text/plain": [
       "    uid      id        lat         lng           start_time  \\\n",
       "0  9497  250460  37.554742  127.026641  2019-11-07 10:45:58   \n",
       "1  9497  240029  37.564022  127.035580  2019-11-06 23:27:51   \n",
       "2  9497  238990  37.560267  127.033065  2019-11-06 20:22:16   \n",
       "3  9497  234786  37.561929  127.038133  2019-11-06 17:15:56   \n",
       "4  9497  226233  37.561171  127.037129  2019-11-06 07:49:15   \n",
       "\n",
       "              end_time  activity  \n",
       "0  2019-11-07 16:00:49       0.0  \n",
       "1  2019-11-07 10:45:58       3.0  \n",
       "2  2019-11-06 23:25:41       3.0  \n",
       "3  2019-11-06 18:13:46       3.0  \n",
       "4  2019-11-06 08:29:32       3.0  "
      ]
     },
     "execution_count": 2,
     "metadata": {},
     "output_type": "execute_result"
    }
   ],
   "source": [
    "DATA_DIR = './data/pre_stop_points.csv'\n",
    "stop_df = pd.read_csv(DATA_DIR)\n",
    "stop_df['activity'] = stop_df['activity_class']\n",
    "stop_df = stop_df.drop(['activity_class'], axis=1)\n",
    "stop_df.head()"
   ]
  },
  {
   "cell_type": "markdown",
   "metadata": {},
   "source": [
    "###  Home location"
   ]
  },
  {
   "cell_type": "code",
   "execution_count": 3,
   "metadata": {},
   "outputs": [
    {
     "data": {
      "text/html": [
       "<div>\n",
       "<style scoped>\n",
       "    .dataframe tbody tr th:only-of-type {\n",
       "        vertical-align: middle;\n",
       "    }\n",
       "\n",
       "    .dataframe tbody tr th {\n",
       "        vertical-align: top;\n",
       "    }\n",
       "\n",
       "    .dataframe thead th {\n",
       "        text-align: right;\n",
       "    }\n",
       "</style>\n",
       "<table border=\"1\" class=\"dataframe\">\n",
       "  <thead>\n",
       "    <tr style=\"text-align: right;\">\n",
       "      <th></th>\n",
       "      <th>uid</th>\n",
       "      <th>lat_avg</th>\n",
       "      <th>lng_avg</th>\n",
       "      <th>overn_cnt</th>\n",
       "      <th>total_dur</th>\n",
       "      <th>clus_idx</th>\n",
       "    </tr>\n",
       "  </thead>\n",
       "  <tbody>\n",
       "    <tr>\n",
       "      <th>0</th>\n",
       "      <td>204</td>\n",
       "      <td>37.555587</td>\n",
       "      <td>127.035631</td>\n",
       "      <td>6 days 00:00:00.000000000</td>\n",
       "      <td>6 days 01:32:26.000000000</td>\n",
       "      <td>0</td>\n",
       "    </tr>\n",
       "    <tr>\n",
       "      <th>1</th>\n",
       "      <td>287</td>\n",
       "      <td>37.542607</td>\n",
       "      <td>127.046064</td>\n",
       "      <td>6 days 00:00:00.000000000</td>\n",
       "      <td>5 days 08:40:51.000000000</td>\n",
       "      <td>0</td>\n",
       "    </tr>\n",
       "    <tr>\n",
       "      <th>2</th>\n",
       "      <td>305</td>\n",
       "      <td>37.570986</td>\n",
       "      <td>127.036927</td>\n",
       "      <td>10 days 00:00:00.000000000</td>\n",
       "      <td>8 days 05:11:49.000000000</td>\n",
       "      <td>0</td>\n",
       "    </tr>\n",
       "    <tr>\n",
       "      <th>3</th>\n",
       "      <td>381</td>\n",
       "      <td>37.539104</td>\n",
       "      <td>127.056621</td>\n",
       "      <td>43 days 00:00:00.000000000</td>\n",
       "      <td>38 days 08:47:40.000000000</td>\n",
       "      <td>0</td>\n",
       "    </tr>\n",
       "    <tr>\n",
       "      <th>4</th>\n",
       "      <td>606</td>\n",
       "      <td>37.249107</td>\n",
       "      <td>127.011834</td>\n",
       "      <td>32 days 00:00:00.000000000</td>\n",
       "      <td>29 days 13:53:05.000000000</td>\n",
       "      <td>0</td>\n",
       "    </tr>\n",
       "  </tbody>\n",
       "</table>\n",
       "</div>"
      ],
      "text/plain": [
       "   uid    lat_avg     lng_avg                   overn_cnt  \\\n",
       "0  204  37.555587  127.035631   6 days 00:00:00.000000000   \n",
       "1  287  37.542607  127.046064   6 days 00:00:00.000000000   \n",
       "2  305  37.570986  127.036927  10 days 00:00:00.000000000   \n",
       "3  381  37.539104  127.056621  43 days 00:00:00.000000000   \n",
       "4  606  37.249107  127.011834  32 days 00:00:00.000000000   \n",
       "\n",
       "                    total_dur  clus_idx  \n",
       "0   6 days 01:32:26.000000000         0  \n",
       "1   5 days 08:40:51.000000000         0  \n",
       "2   8 days 05:11:49.000000000         0  \n",
       "3  38 days 08:47:40.000000000         0  \n",
       "4  29 days 13:53:05.000000000         0  "
      ]
     },
     "execution_count": 3,
     "metadata": {},
     "output_type": "execute_result"
    }
   ],
   "source": [
    "home_df = pd.read_csv('./data/home_detection.csv')\n",
    "home_df.head()"
   ]
  },
  {
   "cell_type": "markdown",
   "metadata": {},
   "source": [
    "### Core activity distance\n",
    "* core activity: **home** (or work)\n",
    "* normalize: $\\begin{align}\n",
    "\\phi(d) = (1 + d^{2})^{-1}\n",
    "\\end{align}$"
   ]
  },
  {
   "cell_type": "code",
   "execution_count": 4,
   "metadata": {},
   "outputs": [],
   "source": [
    "def normalization(dist):\n",
    "    return (1 + (dist**2))**-1"
   ]
  },
  {
   "cell_type": "code",
   "execution_count": 5,
   "metadata": {},
   "outputs": [],
   "source": [
    "def core_activity_distance(stop_df, home_df):\n",
    "    id_list = list()\n",
    "    core_dist_list = list()\n",
    "\n",
    "    for uid in stop_df.uid.unique():\n",
    "        user_stop = stop_df[stop_df.uid == uid]\n",
    "        user_home = home_df[home_df.uid == uid]\n",
    "\n",
    "        for i in user_stop.index:\n",
    "            core_dist = geodesic((stop_df.lat[i], stop_df.lng[i]),\n",
    "                                 (user_home.lat_avg.iloc[0], user_home.lng_avg.iloc[0])).kilometers\n",
    "            core_dist_list.append(normalization(core_dist))\n",
    "            id_list.append(user_stop.id[i])\n",
    "    \n",
    "    core_dist_df = pd.DataFrame(core_dist_list, columns=['core_dist'])\n",
    "    core_dist_df['id'] = id_list\n",
    "    core_dist_df = core_dist_df[['id', 'core_dist']]\n",
    "    return core_dist_df"
   ]
  },
  {
   "cell_type": "code",
   "execution_count": 6,
   "metadata": {},
   "outputs": [
    {
     "data": {
      "text/html": [
       "<div>\n",
       "<style scoped>\n",
       "    .dataframe tbody tr th:only-of-type {\n",
       "        vertical-align: middle;\n",
       "    }\n",
       "\n",
       "    .dataframe tbody tr th {\n",
       "        vertical-align: top;\n",
       "    }\n",
       "\n",
       "    .dataframe thead th {\n",
       "        text-align: right;\n",
       "    }\n",
       "</style>\n",
       "<table border=\"1\" class=\"dataframe\">\n",
       "  <thead>\n",
       "    <tr style=\"text-align: right;\">\n",
       "      <th></th>\n",
       "      <th>id</th>\n",
       "      <th>core_dist</th>\n",
       "    </tr>\n",
       "  </thead>\n",
       "  <tbody>\n",
       "    <tr>\n",
       "      <th>0</th>\n",
       "      <td>250460</td>\n",
       "      <td>0.998987</td>\n",
       "    </tr>\n",
       "    <tr>\n",
       "      <th>1</th>\n",
       "      <td>240029</td>\n",
       "      <td>0.370871</td>\n",
       "    </tr>\n",
       "    <tr>\n",
       "      <th>2</th>\n",
       "      <td>238990</td>\n",
       "      <td>0.587871</td>\n",
       "    </tr>\n",
       "    <tr>\n",
       "      <th>3</th>\n",
       "      <td>234786</td>\n",
       "      <td>0.376185</td>\n",
       "    </tr>\n",
       "    <tr>\n",
       "      <th>4</th>\n",
       "      <td>226233</td>\n",
       "      <td>0.423902</td>\n",
       "    </tr>\n",
       "  </tbody>\n",
       "</table>\n",
       "</div>"
      ],
      "text/plain": [
       "       id  core_dist\n",
       "0  250460   0.998987\n",
       "1  240029   0.370871\n",
       "2  238990   0.587871\n",
       "3  234786   0.376185\n",
       "4  226233   0.423902"
      ]
     },
     "execution_count": 6,
     "metadata": {},
     "output_type": "execute_result"
    }
   ],
   "source": [
    "core_atv_dist_df = core_activity_distance(stop_df, home_df)\n",
    "core_atv_dist_df.head()"
   ]
  },
  {
   "cell_type": "code",
   "execution_count": 7,
   "metadata": {},
   "outputs": [],
   "source": [
    "core_atv_dist_df.to_csv(f'./data/parameter_settings/core_dist.csv', index=False)"
   ]
  }
 ],
 "metadata": {
  "kernelspec": {
   "display_name": "Python 3",
   "language": "python",
   "name": "python3"
  },
  "language_info": {
   "codemirror_mode": {
    "name": "ipython",
    "version": 3
   },
   "file_extension": ".py",
   "mimetype": "text/x-python",
   "name": "python",
   "nbconvert_exporter": "python",
   "pygments_lexer": "ipython3",
   "version": "3.6.8"
  }
 },
 "nbformat": 4,
 "nbformat_minor": 2
}

{
 "cells": [
  {
   "cell_type": "code",
   "execution_count": 1,
   "metadata": {},
   "outputs": [],
   "source": [
    "import pandas as pd\n",
    "from selenium import webdriver\n",
    "from tqdm import tqdm"
   ]
  },
  {
   "cell_type": "code",
   "execution_count": 2,
   "metadata": {},
   "outputs": [],
   "source": [
    "DATA_DIR = './data'"
   ]
  },
  {
   "cell_type": "code",
   "execution_count": 3,
   "metadata": {},
   "outputs": [],
   "source": [
    "stop_df = pd.read_csv(DATA_DIR + '/pre_stop_points.csv')\n",
    "stop_df.activity = stop_df.pop('activity_class')\n",
    "\n",
    "near_poi_df = pd.read_csv(DATA_DIR + '/pre_nearest_POIs.csv')\n",
    "near_poi_df = near_poi_df.drop_duplicates()\n",
    "near_poi_df = near_poi_df.reset_index(drop=True)"
   ]
  },
  {
   "cell_type": "code",
   "execution_count": 4,
   "metadata": {},
   "outputs": [],
   "source": [
    "options = webdriver.ChromeOptions()\n",
    "options.add_argument('headless')\n",
    "options.add_argument('--lang=ko')\n",
    "options.add_argument('window-size=1920,1080')"
   ]
  },
  {
   "cell_type": "code",
   "execution_count": 5,
   "metadata": {},
   "outputs": [
    {
     "name": "stderr",
     "output_type": "stream",
     "text": [
      "100%|████████████████████████████████████████████████████████████████████████████| 907/907 [29:52:26<00:00, 124.92s/it]\n"
     ]
    }
   ],
   "source": [
    "shotest_dist_list = list()\n",
    "\n",
    "for i in tqdm(stop_df.index):\n",
    "    origin = f'{stop_df.lng[i]},{stop_df.lat[i]}'\n",
    "    _near_poi_df = near_poi_df[near_poi_df.id == stop_df.id[i]]\n",
    "\n",
    "    for j in _near_poi_df.index:\n",
    "        try:\n",
    "            departure = f'{_near_poi_df.lng[j]},{_near_poi_df.lat[j]}'\n",
    "            url = f'https://map.naver.com/v5/directions/{origin},,,/{departure},,,/-/walk'\n",
    "\n",
    "            driver = webdriver.Chrome('./chromedriver', options=options)\n",
    "            driver.implicitly_wait(3.0)\n",
    "            driver.get(url)\n",
    "        except:\n",
    "            shotest_dist_list.append([j, '-1'])\n",
    "            continue\n",
    "            \n",
    "        try:\n",
    "            shotest_dist = driver.find_element_by_class_name('summary_text').text\n",
    "            shotest_dist_list.append([j, shotest_dist])\n",
    "        except:\n",
    "            error_area = driver.find_elements_by_class_name('directions_error_area')\n",
    "\n",
    "            if len(error_area) != 0:\n",
    "                ng_start = error_area[0].find_elements_by_class_name('ng-star-inserted')[0].text\n",
    "\n",
    "                if '50km' in ng_start:\n",
    "                    shotest_dist_list.append([j,'50km'])\n",
    "                elif '동일' in ng_start:\n",
    "                    shotest_dist_list.append([j, '0m'])\n",
    "            else:\n",
    "                shotest_dist_list.append([j, '-1'])\n",
    "        driver.close()"
   ]
  },
  {
   "cell_type": "code",
   "execution_count": 6,
   "metadata": {},
   "outputs": [],
   "source": [
    "shotest_dist_df = pd.DataFrame(shotest_dist_list, columns=['index', 'shotest_dist'])\n",
    "shotest_dist_df.to_csv(DATA_DIR + '/tmp_shotest_dist.csv', index=False)"
   ]
  }
 ],
 "metadata": {
  "kernelspec": {
   "display_name": "Python 3",
   "language": "python",
   "name": "python3"
  },
  "language_info": {
   "codemirror_mode": {
    "name": "ipython",
    "version": 3
   },
   "file_extension": ".py",
   "mimetype": "text/x-python",
   "name": "python",
   "nbconvert_exporter": "python",
   "pygments_lexer": "ipython3",
   "version": "3.6.8"
  }
 },
 "nbformat": 4,
 "nbformat_minor": 2
}
